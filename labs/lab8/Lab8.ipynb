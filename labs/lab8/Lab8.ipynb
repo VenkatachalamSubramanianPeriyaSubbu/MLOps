{
 "cells": [
  {
   "cell_type": "code",
   "execution_count": 1,
   "metadata": {},
   "outputs": [
    {
     "name": "stdout",
     "output_type": "stream",
     "text": [
      "Requirement already satisfied: fastapi in /opt/homebrew/anaconda3/envs/mlops/lib/python3.12/site-packages (0.115.12)\n",
      "Requirement already satisfied: uvicorn in /opt/homebrew/anaconda3/envs/mlops/lib/python3.12/site-packages (0.34.2)\n",
      "Requirement already satisfied: starlette<0.47.0,>=0.40.0 in /opt/homebrew/anaconda3/envs/mlops/lib/python3.12/site-packages (from fastapi) (0.46.2)\n",
      "Requirement already satisfied: pydantic!=1.8,!=1.8.1,!=2.0.0,!=2.0.1,!=2.1.0,<3.0.0,>=1.7.4 in /opt/homebrew/anaconda3/envs/mlops/lib/python3.12/site-packages (from fastapi) (2.11.1)\n",
      "Requirement already satisfied: typing-extensions>=4.8.0 in /opt/homebrew/anaconda3/envs/mlops/lib/python3.12/site-packages (from fastapi) (4.12.2)\n",
      "Requirement already satisfied: click>=7.0 in /opt/homebrew/anaconda3/envs/mlops/lib/python3.12/site-packages (from uvicorn) (8.1.8)\n",
      "Requirement already satisfied: h11>=0.8 in /opt/homebrew/anaconda3/envs/mlops/lib/python3.12/site-packages (from uvicorn) (0.14.0)\n",
      "Requirement already satisfied: annotated-types>=0.6.0 in /opt/homebrew/anaconda3/envs/mlops/lib/python3.12/site-packages (from pydantic!=1.8,!=1.8.1,!=2.0.0,!=2.0.1,!=2.1.0,<3.0.0,>=1.7.4->fastapi) (0.7.0)\n",
      "Requirement already satisfied: pydantic-core==2.33.0 in /opt/homebrew/anaconda3/envs/mlops/lib/python3.12/site-packages (from pydantic!=1.8,!=1.8.1,!=2.0.0,!=2.0.1,!=2.1.0,<3.0.0,>=1.7.4->fastapi) (2.33.0)\n",
      "Requirement already satisfied: typing-inspection>=0.4.0 in /opt/homebrew/anaconda3/envs/mlops/lib/python3.12/site-packages (from pydantic!=1.8,!=1.8.1,!=2.0.0,!=2.0.1,!=2.1.0,<3.0.0,>=1.7.4->fastapi) (0.4.0)\n",
      "Requirement already satisfied: anyio<5,>=3.6.2 in /opt/homebrew/anaconda3/envs/mlops/lib/python3.12/site-packages (from starlette<0.47.0,>=0.40.0->fastapi) (4.9.0)\n",
      "Requirement already satisfied: idna>=2.8 in /opt/homebrew/anaconda3/envs/mlops/lib/python3.12/site-packages (from anyio<5,>=3.6.2->starlette<0.47.0,>=0.40.0->fastapi) (3.10)\n",
      "Requirement already satisfied: sniffio>=1.1 in /opt/homebrew/anaconda3/envs/mlops/lib/python3.12/site-packages (from anyio<5,>=3.6.2->starlette<0.47.0,>=0.40.0->fastapi) (1.3.1)\n"
     ]
    }
   ],
   "source": [
    "!pip install fastapi uvicorn"
   ]
  },
  {
   "cell_type": "code",
   "execution_count": 2,
   "metadata": {},
   "outputs": [
    {
     "name": "stdout",
     "output_type": "stream",
     "text": [
      "['mean radius' 'mean texture' 'mean perimeter' 'mean area'\n",
      " 'mean smoothness' 'mean compactness' 'mean concavity'\n",
      " 'mean concave points' 'mean symmetry' 'mean fractal dimension'\n",
      " 'radius error' 'texture error' 'perimeter error' 'area error'\n",
      " 'smoothness error' 'compactness error' 'concavity error'\n",
      " 'concave points error' 'symmetry error' 'fractal dimension error'\n",
      " 'worst radius' 'worst texture' 'worst perimeter' 'worst area'\n",
      " 'worst smoothness' 'worst compactness' 'worst concavity'\n",
      " 'worst concave points' 'worst symmetry' 'worst fractal dimension']\n",
      "['malignant' 'benign']\n"
     ]
    }
   ],
   "source": [
    "from sklearn.datasets import load_breast_cancer\n",
    "\n",
    "# Load features and labels\n",
    "X, y = load_breast_cancer(return_X_y=True)\n",
    "\n",
    "# To see feature names and target names:\n",
    "data = load_breast_cancer()\n",
    "print(data.feature_names)\n",
    "print(data.target_names)"
   ]
  },
  {
   "cell_type": "code",
   "execution_count": 3,
   "metadata": {},
   "outputs": [
    {
     "name": "stdout",
     "output_type": "stream",
     "text": [
      "{\n",
      "  \"features\": [\n",
      "    17.99,\n",
      "    10.38,\n",
      "    122.8,\n",
      "    1001.0,\n",
      "    0.1184,\n",
      "    0.2776,\n",
      "    0.3001,\n",
      "    0.1471,\n",
      "    0.2419,\n",
      "    0.07871,\n",
      "    1.095,\n",
      "    0.9053,\n",
      "    8.589,\n",
      "    153.4,\n",
      "    0.006399,\n",
      "    0.04904,\n",
      "    0.05373,\n",
      "    0.01587,\n",
      "    0.03003,\n",
      "    0.006193,\n",
      "    25.38,\n",
      "    17.33,\n",
      "    184.6,\n",
      "    2019.0,\n",
      "    0.1622,\n",
      "    0.6656,\n",
      "    0.7119,\n",
      "    0.2654,\n",
      "    0.4601,\n",
      "    0.1189\n",
      "  ]\n",
      "}\n"
     ]
    }
   ],
   "source": [
    "from sklearn.datasets import load_breast_cancer\n",
    "import json\n",
    "\n",
    "data = load_breast_cancer()\n",
    "sample = data.data[0].tolist()\n",
    "features = data.feature_names.tolist()\n",
    "\n",
    "# Convert to dict for readability\n",
    "sample_json = {\"features\": sample}\n",
    "print(json.dumps(sample_json, indent=2))\n"
   ]
  },
  {
   "cell_type": "code",
   "execution_count": null,
   "metadata": {},
   "outputs": [],
   "source": []
  }
 ],
 "metadata": {
  "kernelspec": {
   "display_name": "mlops",
   "language": "python",
   "name": "python3"
  },
  "language_info": {
   "codemirror_mode": {
    "name": "ipython",
    "version": 3
   },
   "file_extension": ".py",
   "mimetype": "text/x-python",
   "name": "python",
   "nbconvert_exporter": "python",
   "pygments_lexer": "ipython3",
   "version": "3.12.9"
  }
 },
 "nbformat": 4,
 "nbformat_minor": 2
}
